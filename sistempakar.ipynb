{
  "nbformat": 4,
  "nbformat_minor": 0,
  "metadata": {
    "colab": {
      "provenance": [],
      "authorship_tag": "ABX9TyMR9LjXfinyUyGbjtoaIXyW",
      "include_colab_link": true
    },
    "kernelspec": {
      "name": "python3",
      "display_name": "Python 3"
    },
    "language_info": {
      "name": "python"
    }
  },
  "cells": [
    {
      "cell_type": "markdown",
      "metadata": {
        "id": "view-in-github",
        "colab_type": "text"
      },
      "source": [
        "<a href=\"https://colab.research.google.com/github/inisial5217/Tugassistempakar/blob/main/sistempakar.ipynb\" target=\"_parent\"><img src=\"https://colab.research.google.com/assets/colab-badge.svg\" alt=\"Open In Colab\"/></a>"
      ]
    },
    {
      "cell_type": "code",
      "execution_count": null,
      "metadata": {
        "colab": {
          "base_uri": "https://localhost:8080/"
        },
        "id": "-HLKUTwYIEcI",
        "outputId": "144341ad-ebb2-41ff-a19f-02420d6f9626"
      },
      "outputs": [
        {
          "output_type": "stream",
          "name": "stdout",
          "text": [
            "Collecting experta\n",
            "  Downloading experta-1.9.4-py3-none-any.whl.metadata (5.0 kB)\n",
            "Collecting frozendict==1.2 (from experta)\n",
            "  Downloading frozendict-1.2.tar.gz (2.6 kB)\n",
            "  Preparing metadata (setup.py) ... \u001b[?25l\u001b[?25hdone\n",
            "Collecting schema==0.6.7 (from experta)\n",
            "  Downloading schema-0.6.7-py2.py3-none-any.whl.metadata (14 kB)\n",
            "Downloading experta-1.9.4-py3-none-any.whl (35 kB)\n",
            "Downloading schema-0.6.7-py2.py3-none-any.whl (14 kB)\n",
            "Building wheels for collected packages: frozendict\n",
            "  Building wheel for frozendict (setup.py) ... \u001b[?25l\u001b[?25hdone\n",
            "  Created wheel for frozendict: filename=frozendict-1.2-py3-none-any.whl size=3149 sha256=c806a57c4fd3571bcbccf6261e7d6ac0ae1ba71d6b657a42274afb03dee51150\n",
            "  Stored in directory: /root/.cache/pip/wheels/49/ac/f8/cb8120244e710bdb479c86198b03c7b08c3c2d3d2bf448fd6e\n",
            "Successfully built frozendict\n",
            "Installing collected packages: schema, frozendict, experta\n",
            "  Attempting uninstall: frozendict\n",
            "    Found existing installation: frozendict 2.4.6\n",
            "    Uninstalling frozendict-2.4.6:\n",
            "      Successfully uninstalled frozendict-2.4.6\n",
            "\u001b[31mERROR: pip's dependency resolver does not currently take into account all the packages that are installed. This behaviour is the source of the following dependency conflicts.\n",
            "yfinance 0.2.55 requires frozendict>=2.3.4, but you have frozendict 1.2 which is incompatible.\u001b[0m\u001b[31m\n",
            "\u001b[0mSuccessfully installed experta-1.9.4 frozendict-1.2 schema-0.6.7\n"
          ]
        }
      ],
      "source": [
        "!pip install experta"
      ]
    },
    {
      "cell_type": "code",
      "source": [
        "!pip install --upgrade frozendict"
      ],
      "metadata": {
        "colab": {
          "base_uri": "https://localhost:8080/"
        },
        "id": "Ovj13khIIYn0",
        "outputId": "e110afb4-4709-4fc2-d9e6-f6d4f7db4343"
      },
      "execution_count": null,
      "outputs": [
        {
          "output_type": "stream",
          "name": "stdout",
          "text": [
            "Requirement already satisfied: frozendict in /usr/local/lib/python3.11/dist-packages (1.2)\n",
            "Collecting frozendict\n",
            "  Downloading frozendict-2.4.6-py311-none-any.whl.metadata (23 kB)\n",
            "Downloading frozendict-2.4.6-py311-none-any.whl (16 kB)\n",
            "Installing collected packages: frozendict\n",
            "  Attempting uninstall: frozendict\n",
            "    Found existing installation: frozendict 1.2\n",
            "    Uninstalling frozendict-1.2:\n",
            "      Successfully uninstalled frozendict-1.2\n",
            "\u001b[31mERROR: pip's dependency resolver does not currently take into account all the packages that are installed. This behaviour is the source of the following dependency conflicts.\n",
            "experta 1.9.4 requires frozendict==1.2, but you have frozendict 2.4.6 which is incompatible.\u001b[0m\u001b[31m\n",
            "\u001b[0mSuccessfully installed frozendict-2.4.6\n"
          ]
        }
      ]
    },
    {
      "cell_type": "code",
      "source": [
        "from experta import *\n",
        "\n",
        "class Diagnosis(KnowledgeEngine):\n",
        "\n",
        "    @Rule(Fact(cough=True) & Fact(fever=True) & Fact(fatigue=True))\n",
        "    def infeksi_pernapasan_ringan(self):\n",
        "        print(\"Diagnosis: Kemungkinan Anda mengalami Infeksi Saluran Pernapasan Ringan.\")\n",
        "\n",
        "    @Rule(Fact(cough=True) & Fact(fever=True) & Fact(breathing_difficulty=True))\n",
        "    def sindrom_pernapasan_berat(self):\n",
        "        print(\"Diagnosis: Kemungkinan Anda mengalami Sindrom Pernapasan Berat.\")\n",
        "\n",
        "    @Rule(Fact(sneezing=True) & Fact(runny_nose=True) & Fact(cough=False))\n",
        "    def rinitis_alergi(self):\n",
        "        print(\"Diagnosis: Kemungkinan Anda mengalami Rinitis Alergi.\")\n",
        "\n",
        "    @Rule(Fact(sore_throat=True) & Fact(fever=True))\n",
        "    def infeksi_tenggorokan(self):\n",
        "        print(\"Diagnosis: Kemungkinan Anda mengalami Infeksi Tenggorokan.\")\n",
        "\n",
        "    @Rule(Fact(cough=True) & Fact(sneezing=True) & Fact(runny_nose=True) & Fact(fatigue=False))\n",
        "    def reaksi_alergi_ringan(self):\n",
        "        print(\"Diagnosis: Kemungkinan Anda mengalami Reaksi Alergi Ringan.\")\n",
        "\n",
        "    @Rule(Fact(cough=True) & Fact(fever=True) & Fact(breathing_difficulty=True) &\n",
        "          Fact(fatigue=True) & Fact(sore_throat=True))\n",
        "    def infeksi_virus_menular(self):\n",
        "        print(\"Diagnosis: Kemungkinan Anda mengalami Infeksi Virus Menular.\")\n",
        "\n",
        "    @Rule(Fact(nausea=True) & Fact(vomiting=True) & Fact(diarrhea=True) & Fact(fever=True))\n",
        "    def infeksi_saluran_pencernaan(self):\n",
        "        print(\"Diagnosis: Kemungkinan Anda mengalami Infeksi Saluran Pencernaan.\")\n",
        "\n",
        "    @Rule(Fact(cough=True) & Fact(fatigue=True) & Fact(sore_throat=True) & Fact(runny_nose=False))\n",
        "    def iritasi_bronkial(self):\n",
        "        print(\"Diagnosis: Kemungkinan Anda mengalami Iritasi Bronkial.\")\n",
        "\n",
        "    @Rule(NOT(Fact(cough=True)),\n",
        "          NOT(Fact(fever=True)),\n",
        "          NOT(Fact(fatigue=True)),\n",
        "          NOT(Fact(breathing_difficulty=True)),\n",
        "          NOT(Fact(sneezing=True)),\n",
        "          NOT(Fact(runny_nose=True)),\n",
        "          NOT(Fact(sore_throat=True)),\n",
        "          NOT(Fact(nausea=True)),\n",
        "          NOT(Fact(vomiting=True)),\n",
        "          NOT(Fact(diarrhea=True)))\n",
        "    def sehat(self):\n",
        "        print(\"Diagnosis: Kondisi Anda tampaknya sehat.\")\n",
        "\n",
        "def get_input():\n",
        "    \"\"\"Helper function to get user input and convert to boolean (yes/no).\"\"\"\n",
        "    def ask_question(question):\n",
        "        while True:\n",
        "            answer = input(question + \" (ya/tidak): \").strip().lower()\n",
        "            if answer in [\"ya\", \"tidak\"]:\n",
        "                return answer == \"ya\"\n",
        "            else:\n",
        "                print(\"Input tidak valid. Jawab dengan 'ya' atau 'tidak'.\")\n",
        "\n",
        "    return {\n",
        "        \"cough\": ask_question(\"Apakah Anda batuk?\"),\n",
        "        \"fever\": ask_question(\"Apakah Anda demam?\"),\n",
        "        \"fatigue\": ask_question(\"Apakah Anda merasa lelah?\"),\n",
        "        \"breathing_difficulty\": ask_question(\"Apakah Anda mengalami kesulitan bernapas?\"),\n",
        "        \"sneezing\": ask_question(\"Apakah Anda bersin?\"),\n",
        "        \"runny_nose\": ask_question(\"Apakah Anda pilek?\"),\n",
        "        \"sore_throat\": ask_question(\"Apakah Anda sakit tenggorokan?\"),\n",
        "        \"nausea\": ask_question(\"Apakah Anda merasa mual?\"),\n",
        "        \"vomiting\": ask_question(\"Apakah Anda muntah?\"),\n",
        "        \"diarrhea\": ask_question(\"Apakah Anda mengalami diare?\")\n",
        "    }\n",
        "\n",
        "# Jalankan sistem pakar\n",
        "if __name__ == \"__main__\":\n",
        "    symptoms = get_input()\n",
        "    engine = Diagnosis()\n",
        "    engine.reset()\n",
        "\n",
        "    for symptom, present in symptoms.items():\n",
        "        engine.declare(Fact(**{symptom: present}))\n",
        "\n",
        "    engine.run()\n"
      ],
      "metadata": {
        "colab": {
          "base_uri": "https://localhost:8080/"
        },
        "id": "plsLQDpPJeA0",
        "outputId": "67eb2f8a-4457-4100-c340-c7db08d8a618"
      },
      "execution_count": null,
      "outputs": [
        {
          "output_type": "stream",
          "name": "stdout",
          "text": [
            "Apakah Anda batuk? (ya/tidak): tidak\n",
            "Apakah Anda demam? (ya/tidak): ya\n",
            "Apakah Anda merasa lelah? (ya/tidak): ya\n",
            "Apakah Anda mengalami kesulitan bernapas? (ya/tidak): ya\n",
            "Apakah Anda bersin? (ya/tidak): ya\n",
            "Apakah Anda pilek? (ya/tidak): ya\n",
            "Apakah Anda sakit tenggorokan? (ya/tidak): ya\n",
            "Apakah Anda merasa mual? (ya/tidak): ya\n",
            "Apakah Anda muntah? (ya/tidak): ya\n",
            "Apakah Anda mengalami diare? (ya/tidak): ya\n",
            "Diagnosis: Kemungkinan Anda mengalami Infeksi Saluran Pencernaan.\n",
            "Diagnosis: Kemungkinan Anda mengalami Infeksi Tenggorokan.\n",
            "Diagnosis: Kemungkinan Anda mengalami Rinitis Alergi.\n"
          ]
        }
      ]
    },
    {
      "cell_type": "code",
      "source": [
        "from experta import *\n",
        "\n",
        "class Diagnosis(KnowledgeEngine):\n",
        "\n",
        "    @Rule(Fact(cough=True) & Fact(fever=True) & Fact(fatigue=True))\n",
        "    def infeksi_pernapasan_ringan(self):\n",
        "        print(\"Diagnosis: Kemungkinan Anda mengalami Infeksi Saluran Pernapasan Ringan.\")\n",
        "\n",
        "    @Rule(Fact(cough=True) & Fact(fever=True) & Fact(breathing_difficulty=True))\n",
        "    def sindrom_pernapasan_berat(self):\n",
        "        print(\"Diagnosis: Kemungkinan Anda mengalami Sindrom Pernapasan Berat.\")\n",
        "\n",
        "    @Rule(Fact(sneezing=True) & Fact(runny_nose=True) & Fact(cough=False))\n",
        "    def rinitis_alergi(self):\n",
        "        print(\"Diagnosis: Kemungkinan Anda mengalami Rinitis Alergi.\")\n",
        "\n",
        "    @Rule(Fact(sore_throat=True) & Fact(fever=True))\n",
        "    def infeksi_tenggorokan(self):\n",
        "        print(\"Diagnosis: Kemungkinan Anda mengalami Infeksi Tenggorokan.\")\n",
        "\n",
        "    @Rule(Fact(cough=True) & Fact(sneezing=True) & Fact(runny_nose=True) & Fact(fatigue=False))\n",
        "    def reaksi_alergi_ringan(self):\n",
        "        print(\"Diagnosis: Kemungkinan Anda mengalami Reaksi Alergi Ringan.\")\n",
        "\n",
        "    @Rule(Fact(cough=True) & Fact(fever=True) & Fact(breathing_difficulty=True) &\n",
        "          Fact(fatigue=True) & Fact(sore_throat=True))\n",
        "    def infeksi_virus_menular(self):\n",
        "        print(\"Diagnosis: Kemungkinan Anda mengalami Infeksi Virus Menular.\")\n",
        "\n",
        "    @Rule(Fact(nausea=True) & Fact(vomiting=True) & Fact(diarrhea=True) & Fact(fever=True))\n",
        "    def infeksi_saluran_pencernaan(self):\n",
        "        print(\"Diagnosis: Kemungkinan Anda mengalami Infeksi Saluran Pencernaan.\")\n",
        "\n",
        "    @Rule(Fact(cough=True) & Fact(fatigue=True) & Fact(sore_throat=True) & Fact(runny_nose=False))\n",
        "    def iritasi_bronkial(self):\n",
        "        print(\"Diagnosis: Kemungkinan Anda mengalami Iritasi Bronkial.\")\n",
        "\n",
        "    @Rule(Fact(fever=True) & Fact(fatigue=True) & Fact(nausea=True) & Fact(vomiting=True))\n",
        "    def demam_berdarah(self):\n",
        "        print(\"Diagnosis: Kemungkinan Anda mengalami Demam Berdarah.\")\n",
        "\n",
        "    @Rule(Fact(fever=True) & Fact(fatigue=True) & Fact(nausea=True) & Fact(diarrhea=True) & Fact(sore_throat=False))\n",
        "    def tifus(self):\n",
        "        print(\"Diagnosis: Kemungkinan Anda mengalami Tifus (Typoid).\")\n",
        "\n",
        "    @Rule(Fact(fever=True) & Fact(nausea=True) & Fact(vomiting=True) & Fact(breathing_difficulty=False) & Fact(cough=False))\n",
        "    def isk(self):\n",
        "        print(\"Diagnosis: Kemungkinan Anda mengalami Infeksi Saluran Kemih (ISK).\")\n",
        "\n",
        "    @Rule(Fact(fatigue=True) & Fact(nausea=True) & Fact(fever=False) & Fact(cough=False))\n",
        "    def migrain(self):\n",
        "        print(\"Diagnosis: Kemungkinan Anda mengalami Migrain.\")\n",
        "\n",
        "    @Rule(NOT(Fact(cough=True)),\n",
        "          NOT(Fact(fever=True)),\n",
        "          NOT(Fact(fatigue=True)),\n",
        "          NOT(Fact(breathing_difficulty=True)),\n",
        "          NOT(Fact(sneezing=True)),\n",
        "          NOT(Fact(runny_nose=True)),\n",
        "          NOT(Fact(sore_throat=True)),\n",
        "          NOT(Fact(nausea=True)),\n",
        "          NOT(Fact(vomiting=True)),\n",
        "          NOT(Fact(diarrhea=True)))\n",
        "    def sehat(self):\n",
        "        print(\"Diagnosis: Kondisi Anda tampaknya sehat.\")\n",
        "\n",
        "def get_input():\n",
        "    \"\"\"Fungsi untuk mengambil input pengguna dan mengubah ke boolean.\"\"\"\n",
        "    def ask_question(question):\n",
        "        while True:\n",
        "            answer = input(question + \" (ya/tidak): \").strip().lower()\n",
        "            if answer in [\"ya\", \"tidak\"]:\n",
        "                return answer == \"ya\"\n",
        "            else:\n",
        "                print(\"Input tidak valid. Jawab dengan 'ya' atau 'tidak'.\")\n",
        "\n",
        "    return {\n",
        "        \"cough\": ask_question(\"Apakah Anda batuk?\"),\n",
        "        \"fever\": ask_question(\"Apakah Anda demam?\"),\n",
        "        \"fatigue\": ask_question(\"Apakah Anda merasa lelah?\"),\n",
        "        \"breathing_difficulty\": ask_question(\"Apakah Anda mengalami kesulitan bernapas?\"),\n",
        "        \"sneezing\": ask_question(\"Apakah Anda bersin?\"),\n",
        "        \"runny_nose\": ask_question(\"Apakah Anda pilek?\"),\n",
        "        \"sore_throat\": ask_question(\"Apakah Anda sakit tenggorokan?\"),\n",
        "        \"nausea\": ask_question(\"Apakah Anda merasa mual?\"),\n",
        "        \"vomiting\": ask_question(\"Apakah Anda muntah?\"),\n",
        "        \"diarrhea\": ask_question(\"Apakah Anda mengalami diare?\")\n",
        "    }\n",
        "\n",
        "# Jalankan sistem pakar\n",
        "if __name__ == \"__main__\":\n",
        "    print(\"Sistem Pakar Diagnosa Penyakit Sederhana\\nSilakan jawab pertanyaan berikut:\")\n",
        "    symptoms = get_input()\n",
        "    engine = Diagnosis()\n",
        "    engine.reset()\n",
        "\n",
        "    for symptom, present in symptoms.items():\n",
        "        engine.declare(Fact(**{symptom: present}))\n",
        "\n",
        "    print(\"\\nHasil Diagnosa:\")\n",
        "    engine.run()\n"
      ],
      "metadata": {
        "colab": {
          "base_uri": "https://localhost:8080/"
        },
        "id": "fjBElnjaLkjW",
        "outputId": "6612858d-3daf-4a7e-97f2-e8d8d49b34b4"
      },
      "execution_count": null,
      "outputs": [
        {
          "output_type": "stream",
          "name": "stdout",
          "text": [
            "Sistem Pakar Diagnosa Penyakit Sederhana\n",
            "Silakan jawab pertanyaan berikut:\n",
            "Apakah Anda batuk? (ya/tidak): ya\n",
            "Apakah Anda demam? (ya/tidak): ya\n",
            "Apakah Anda merasa lelah? (ya/tidak): ya\n",
            "Apakah Anda mengalami kesulitan bernapas? (ya/tidak): ya\n",
            "Apakah Anda bersin? (ya/tidak): ya\n",
            "Apakah Anda pilek? (ya/tidak): ya\n",
            "Apakah Anda sakit tenggorokan? (ya/tidak): ya\n",
            "Apakah Anda merasa mual? (ya/tidak): ya\n",
            "Apakah Anda muntah? (ya/tidak): ya\n",
            "Apakah Anda mengalami diare? (ya/tidak): ya\n",
            "\n",
            "Hasil Diagnosa:\n",
            "Diagnosis: Kemungkinan Anda mengalami Infeksi Saluran Pencernaan.\n",
            "Diagnosis: Kemungkinan Anda mengalami Demam Berdarah.\n",
            "Diagnosis: Kemungkinan Anda mengalami Infeksi Virus Menular.\n",
            "Diagnosis: Kemungkinan Anda mengalami Infeksi Tenggorokan.\n",
            "Diagnosis: Kemungkinan Anda mengalami Sindrom Pernapasan Berat.\n",
            "Diagnosis: Kemungkinan Anda mengalami Infeksi Saluran Pernapasan Ringan.\n"
          ]
        }
      ]
    }
  ]
}